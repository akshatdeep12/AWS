{
 "cells": [
  {
   "cell_type": "markdown",
   "metadata": {},
   "source": [
    "# CHOOSING RIGHT DATABASE SERVICE ON AWS "
   ]
  },
  {
   "cell_type": "markdown",
   "metadata": {},
   "source": [
    "## RELATIONAL DATABASE"
   ]
  },
  {
   "cell_type": "markdown",
   "metadata": {},
   "source": [
    "- Follows Realational Data Model\n",
    "- Data Stored in Tables in tabular manner, each column having its own different data type. \n",
    "- Row defines an entire record\n"
   ]
  },
  {
   "cell_type": "markdown",
   "metadata": {},
   "source": [
    "### PROS"
   ]
  },
  {
   "cell_type": "markdown",
   "metadata": {},
   "source": [
    "- Highly Structured Data\n",
    "- Support for joining multiple tables allow for better data normalization"
   ]
  },
  {
   "cell_type": "markdown",
   "metadata": {},
   "source": [
    "### CONS"
   ]
  },
  {
   "cell_type": "markdown",
   "metadata": {},
   "source": [
    "- Requirement of Structure limits the flexibility of relational database\n",
    "- Strict type checking and column constraints can affects performance. Not suitable for highly distributed applications that requires high throughput"
   ]
  },
  {
   "cell_type": "markdown",
   "metadata": {},
   "source": [
    "## AWS Relational Databases Options"
   ]
  },
  {
   "cell_type": "markdown",
   "metadata": {},
   "source": [
    "- AWS AURORA \n",
    "    - Best for mysql and postgresql workloads that require automatic scaling\n",
    "- AWS Relational Database Service\n",
    "    - Best when multiple RDBMS engines like Oracle, sql server, mysql etc and simple management are required\n",
    "- AWS Redshift\n",
    "    - Best for data warehouse workloads and provides strong integration with other AWS services like S3,Athena,Sagemaker etc"
   ]
  },
  {
   "cell_type": "markdown",
   "metadata": {},
   "source": [
    "## NOSQL DATABASE"
   ]
  },
  {
   "cell_type": "markdown",
   "metadata": {},
   "source": [
    "- Does not use relational data model\n",
    "- Data can be stored as key value pair or json etc\n",
    "- It allows for ease of scalibility and flexibility\n",
    "- Flexibility in structure makes them an ideal for rapid development and changing requirements\n",
    "- They are easy to scale to meet application demand and most of them work on principle of EVENTUAL CONSISTENCY where changes are eventually propagated on all nodes. This leads to problem of stale reads or inaccurate data"
   ]
  },
  {
   "cell_type": "markdown",
   "metadata": {},
   "source": [
    "### PROS"
   ]
  },
  {
   "cell_type": "markdown",
   "metadata": {},
   "source": [
    "- Ideal choice for flexible data workloads\n",
    "- Easily scalable"
   ]
  },
  {
   "cell_type": "markdown",
   "metadata": {},
   "source": [
    "### CONS"
   ]
  },
  {
   "cell_type": "markdown",
   "metadata": {},
   "source": [
    "- Not good choice for financial data or timestamp data as it lacks strict type checking \n",
    "- Not good choice for highly connected data or hinghly normalized data"
   ]
  },
  {
   "cell_type": "markdown",
   "metadata": {},
   "source": [
    "## AWS NOSQL Databases Options"
   ]
  },
  {
   "cell_type": "markdown",
   "metadata": {},
   "source": [
    "- AWS DYNAMODB\n",
    "    - Most flexible NOSQL database available. Best suited for new projects where high flexibility is required.\n",
    "- AWS DOCUMENTDB\n",
    "    - Fully managed MongoDB compatible Database Service. Best suited where MongoDB database is needed.\n",
    "- AWS KEYSPACES\n",
    "    - Fully managed Apache Cassandra compatible Database Service. Best suited where Cassandra Query Language is needed."
   ]
  },
  {
   "cell_type": "markdown",
   "metadata": {},
   "source": [
    "## IN-MEMORY DATABASE"
   ]
  },
  {
   "cell_type": "markdown",
   "metadata": {},
   "source": [
    "- Quick and Flexible\n",
    "- They do not write on volatile storage like SSD etc.\n",
    "- Ideal for Caching \n",
    "- Simple design makes them highly scalable and best suited for cache layer used for RDBMS"
   ]
  },
  {
   "cell_type": "markdown",
   "metadata": {},
   "source": [
    "### PROS"
   ]
  },
  {
   "cell_type": "markdown",
   "metadata": {},
   "source": [
    "- Ideal for Caching in front of RDBMS.\n",
    "- Fast Performance and temporary data storage makes them an ideal choice for quickly passing messages among systems. "
   ]
  },
  {
   "cell_type": "markdown",
   "metadata": {},
   "source": [
    "### CONS"
   ]
  },
  {
   "cell_type": "markdown",
   "metadata": {},
   "source": [
    "- Not suitable where persistent data storage is needed\n",
    "- Not good for relational data as they store temporaray data in key value pair formats"
   ]
  },
  {
   "cell_type": "markdown",
   "metadata": {},
   "source": [
    "## AWS IN-MEMORY Databases Options"
   ]
  },
  {
   "cell_type": "markdown",
   "metadata": {},
   "source": [
    "- AWS ELASTICACHE FOR MEMCACHED\n",
    "    - Memcached compatible managed database. Ideal for simple caching systems\n",
    "- AWS ELASTICACHE FOR REDIS\n",
    "    - Redis compatible managed database. Ideal for Standalone datastore or geospatial data."
   ]
  },
  {
   "cell_type": "markdown",
   "metadata": {},
   "source": [
    "## AWS SPECIALITY DATABASES"
   ]
  },
  {
   "cell_type": "markdown",
   "metadata": {},
   "source": [
    "- Purpose built for specific type of data for solving specific problems"
   ]
  },
  {
   "cell_type": "markdown",
   "metadata": {},
   "source": [
    "- AWS Neptune\n",
    "    - Purpose built, high performance Graph database. Ideal for highly connected data like social networking, recommendation engines and fraud detection.\n",
    "- AWS Timestream\n",
    "    - Time Series Database. Ideal for structured time series data and is append only.Queries are always over a time interval. Optimized to handle those queries as compared to RDBMS. Suitable for events from IOT devices and application/network performance monitoring.\n",
    "- AWS QLDB\n",
    "    - Ledger Database.It is used to maintain an accurate history of data changes, typically of financial or economic data. While most ledger database features can be implemented on traditional RDBMS, this process can be time consuming and error prone.Amazon QLDB is fully managed service and ensures the data history is immutable (i.e. it cannot be changed)"
   ]
  },
  {
   "cell_type": "code",
   "execution_count": null,
   "metadata": {},
   "outputs": [],
   "source": []
  }
 ],
 "metadata": {
  "kernelspec": {
   "display_name": "Python 3",
   "language": "python",
   "name": "python3"
  },
  "language_info": {
   "codemirror_mode": {
    "name": "ipython",
    "version": 3
   },
   "file_extension": ".py",
   "mimetype": "text/x-python",
   "name": "python",
   "nbconvert_exporter": "python",
   "pygments_lexer": "ipython3",
   "version": "3.7.3"
  }
 },
 "nbformat": 4,
 "nbformat_minor": 2
}
